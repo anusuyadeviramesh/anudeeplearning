{
 "cells": [
  {
   "cell_type": "code",
   "execution_count": null,
   "id": "a1877333",
   "metadata": {
    "vscode": {
     "languageId": "plaintext"
    }
   },
   "outputs": [],
   "source": [
    "import numpy as np\n",
    "x=np.array([[0,0],[0,1],[1,0],[1,1]])\n",
    "y=np.array([0,0,0,1])\n",
    "weights=np.zeros(2)\n",
    "bias=0\n",
    "#learing rate\n",
    "lr=0.1\n",
    "epochs=10\n",
    "def step(x):\n",
    "  return 1 if x>=0 else 0\n",
    "for epoch in range(epochs):\n",
    "  for i in range(len(x)):\n",
    "    z=np.dot(x[i],weights)+bias\n",
    "#prediction\n",
    "    pred=step(z)\n",
    "    error=y[i]-pred\n",
    "    weights +=lr*error*x[i]\n",
    "    bias +=lr*error\n",
    "print(\"Weights\",weights)\n",
    "print(\"Bias\",bias)\n",
    "\n",
    "for i in range(len(x)):\n",
    "   z=np.dot(x[i],weights)+bias\n",
    "   pred=step(z)\n",
    "   print(f\"Input: {x[i]} => Output :{pred}\")\n"
   ]
  }
 ],
 "metadata": {
  "language_info": {
   "name": "python"
  }
 },
 "nbformat": 4,
 "nbformat_minor": 5
}
